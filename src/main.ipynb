{
 "cells": [
  {
   "cell_type": "code",
   "execution_count": 1,
   "metadata": {},
   "outputs": [],
   "source": [
    "from typing import Union, Dict, List\n",
    "import matplotlib.pyplot as plt\n",
    "from algorithm import GeneticAlgorithm, ControlSystem\n",
    "\n",
    "from utils import get_config\n",
    "config: Dict[str, Union[int, List[int]]] = get_config(\"../genetic-algorithm-config.yaml\")"
   ]
  },
  {
   "cell_type": "code",
   "execution_count": 2,
   "metadata": {},
   "outputs": [],
   "source": [
    "genetic_algorithm = GeneticAlgorithm(config)\n",
    "\n",
    "best_solutions = []\n",
    "best_solution = genetic_algorithm.populations[0]\n",
    "\n",
    "best_fitness = genetic_algorithm.calculate_fitness(0)\n",
    "best_fitnesses = []\n",
    "\n",
    "for _ in range(config[\"genetic-algorithm\"][\"iteration-number\"]):\n",
    "    for index in range(config[\"genetic-algorithm\"][\"population-number\"]):\n",
    "        fitness = genetic_algorithm.calculate_fitness(index)\n",
    "        if fitness < best_fitness:\n",
    "            best_solution = genetic_algorithm.populations[index]\n",
    "            best_fitness = fitness\n",
    "\n",
    "    best_fitnesses.append(best_fitness)\n",
    "    best_solutions.append(best_solution)\n",
    "\n",
    "    genetic_algorithm.produce_next_generation()"
   ]
  },
  {
   "cell_type": "code",
   "execution_count": 5,
   "metadata": {},
   "outputs": [
    {
     "data": {
      "image/png": "[encoded data removed]",
      "text/plain": [
       "<Figure size 432x288 with 1 Axes>"
      ]
     },
     "metadata": {
      "needs_background": "light"
     },
     "output_type": "display_data"
    }
   ],
   "source": [
    "control_system = ControlSystem(\n",
    "    chromosome=best_solutions[-1],\n",
    "    config=config[\"control-system\"]\n",
    ")\n",
    "\n",
    "control_system.run()\n",
    "\n",
    "plt.plot(list(range(len(control_system.y))), control_system.y, label=\"Control System Output\")\n",
    "plt.legend()\n",
    "plt.show()"
   ]
  },
  {
   "cell_type": "code",
   "execution_count": 4,
   "metadata": {},
   "outputs": [
    {
     "name": "stdout",
     "output_type": "stream",
     "text": [
      "P value: 1\n",
      "I value: 0.251347808685275\n",
      "D value: 0.006147848880617543\n",
      "eta value: 0.30001\n"
     ]
    }
   ],
   "source": [
    "print(f\"P value: {best_solutions[-1].kp}\")\n",
    "print(f\"I value: {best_solutions[-1].ki}\")\n",
    "print(f\"D value: {best_solutions[-1].kd}\")\n",
    "print(f\"eta value: {best_solutions[-1].eta}\")"
   ]
  }
 ],
 "metadata": {
  "interpreter": {
   "hash": "475196781e618f6f1c1d80b68304f3b41b323b9126d0eafdd93a12ba41727a1b"
  },
  "kernelspec": {
   "display_name": "Python 3.9.7 ('ga_with_pid-ZMib-A5y')",
   "language": "python",
   "name": "python3"
  },
  "language_info": {
   "codemirror_mode": {
    "name": "ipython",
    "version": 3
   },
   "file_extension": ".py",
   "mimetype": "text/x-python",
   "name": "python",
   "nbconvert_exporter": "python",
   "pygments_lexer": "ipython3",
   "version": "3.9.7"
  },
  "orig_nbformat": 4
 },
 "nbformat": 4,
 "nbformat_minor": 2
}
